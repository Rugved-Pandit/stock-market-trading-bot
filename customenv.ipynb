{
 "cells": [
  {
   "cell_type": "code",
   "execution_count": 1,
   "metadata": {},
   "outputs": [],
   "source": [
    "import gym\n",
    "import numpy as np\n",
    "import random\n",
    "import os\n",
    "from stable_baselines3 import ppo\n",
    "from stable_baselines3.common.vec_env import vec_frame_stack\n",
    "from stable_baselines3.common.evaluation import evaluate_policy"
   ]
  },
  {
   "cell_type": "code",
   "execution_count": 2,
   "metadata": {},
   "outputs": [
    {
     "data": {
      "text/plain": [
       "Discrete(5)"
      ]
     },
     "execution_count": 2,
     "metadata": {},
     "output_type": "execute_result"
    }
   ],
   "source": [
    "gym.spaces.Discrete(5)"
   ]
  },
  {
   "cell_type": "code",
   "execution_count": 3,
   "metadata": {},
   "outputs": [],
   "source": [
    "import csv"
   ]
  },
  {
   "cell_type": "code",
   "execution_count": 4,
   "metadata": {},
   "outputs": [
    {
     "name": "stdout",
     "output_type": "stream",
     "text": [
      "Total no. of rows: 1178893\n",
      "Field names are:Instrument, Date, Time, Open, High, Low, Close\n",
      "\n",
      "First 5 rows are:\n",
      "\n",
      "     NIFTY   20080101      09:55    6138.60    6154.60    6138.60    6148.90 \n",
      "\n",
      "     NIFTY   20080101      09:56    6149.75    6149.75    6132.80    6132.80 \n",
      "\n",
      "     NIFTY   20080101      09:57    6138.25    6138.25    6127.95    6127.95 \n",
      "\n",
      "     NIFTY   20080101      09:58    6127.15    6127.15    6120.90    6120.90 \n",
      "\n",
      "     NIFTY   20080101      09:59    6118.05    6118.05    6113.55    6113.90 \n",
      "\n"
     ]
    }
   ],
   "source": [
    "filename = './dataset/NIFTY_data/NIFTY_2008_2020.csv'\n",
    "\n",
    "fields = []\n",
    "rows = []\n",
    "\n",
    "with open(filename, 'r') as csvfile:\n",
    "    # creating a csv reader object\n",
    "    csvreader = csv.reader(csvfile)\n",
    "     \n",
    "    # extracting field names through first row\n",
    "    fields = next(csvreader)\n",
    " \n",
    "    # extracting each data row one by one\n",
    "    for row in csvreader:\n",
    "        rows.append(row)\n",
    " \n",
    "    # get total number of rows\n",
    "    print(\"Total no. of rows: %d\"%(csvreader.line_num))\n",
    " \n",
    "# printing the field names\n",
    "print('Field names are:' + ', '.join(field for field in fields))\n",
    " \n",
    "# printing first 5 rows\n",
    "print('\\nFirst 5 rows are:\\n')\n",
    "for row in rows[:5]:\n",
    "    # parsing each column of a row\n",
    "    for col in row:\n",
    "        print(\"%10s\"%col,end=\" \"),\n",
    "    print('\\n')"
   ]
  },
  {
   "cell_type": "code",
   "execution_count": 5,
   "metadata": {},
   "outputs": [
    {
     "data": {
      "text/plain": [
       "['NIFTY', '20080214', '13:15', '5147.10', '5147.10', '5143.85', '5144.10']"
      ]
     },
     "execution_count": 5,
     "metadata": {},
     "output_type": "execute_result"
    }
   ],
   "source": [
    "rows[10238]"
   ]
  },
  {
   "cell_type": "code",
   "execution_count": 1,
   "metadata": {},
   "outputs": [],
   "source": [
    "import random\n",
    "import json\n",
    "import gym\n",
    "from gym import spaces\n",
    "import pandas as pd\n",
    "import numpy as np\n",
    "\n",
    "MAX_ACCOUNT_BALANCE = 2147483647\n",
    "MAX_NUM_SHARES = 2147483647\n",
    "MAX_SHARE_PRICE = 5000\n",
    "MAX_OPEN_POSITIONS = 5\n",
    "MAX_STEPS = 20000\n",
    "\n",
    "INITIAL_ACCOUNT_BALANCE = 10000\n"
   ]
  },
  {
   "cell_type": "code",
   "execution_count": 2,
   "metadata": {},
   "outputs": [],
   "source": [
    "class StockTradingEnvironment(gym.Env):\n",
    "  \"\"\"A stock trading environment for OpenAI gym\"\"\"\n",
    "  metadata = {'render.modes': ['human']}\n",
    "  def __init__(self, df):\n",
    "    super(StockTradingEnv, self).__init__()\n",
    "    self.df = df\n",
    "    self.reward_range = (0, MAX_ACCOUNT_BALANCE) \n",
    "    # Actions of the format Buy x%, Sell x%, Hold, etc.\n",
    "    self.action_space = spaces.Box(\n",
    "      low=np.array([0, 0]), high=np.array([3, 1]), dtype=np.float16)\n",
    "    # Prices contains the OHCL values for the last five prices\n",
    "    self.observation_space = spaces.Box(\n",
    "      low=0, high=1, shape=(6, 6), dtype=np.float16)"
   ]
  },
  {
   "cell_type": "code",
   "execution_count": 13,
   "metadata": {},
   "outputs": [
    {
     "data": {
      "text/plain": [
       "array([1.053 , 0.7715], dtype=float16)"
      ]
     },
     "execution_count": 13,
     "metadata": {},
     "output_type": "execute_result"
    }
   ],
   "source": [
    "spaces.Box(low=np.array([0, 0]), high=np.array([3, 1]), dtype=np.float16).sample()"
   ]
  },
  {
   "cell_type": "code",
   "execution_count": null,
   "metadata": {},
   "outputs": [],
   "source": []
  }
 ],
 "metadata": {
  "kernelspec": {
   "display_name": "Python 3.8.3 64-bit",
   "language": "python",
   "name": "python3"
  },
  "language_info": {
   "codemirror_mode": {
    "name": "ipython",
    "version": 3
   },
   "file_extension": ".py",
   "mimetype": "text/x-python",
   "name": "python",
   "nbconvert_exporter": "python",
   "pygments_lexer": "ipython3",
   "version": "3.8.3"
  },
  "orig_nbformat": 4,
  "vscode": {
   "interpreter": {
    "hash": "cae2a9a7002033490415af603d96bb8978a14603eb756c2cc3839819cf41baa1"
   }
  }
 },
 "nbformat": 4,
 "nbformat_minor": 2
}
