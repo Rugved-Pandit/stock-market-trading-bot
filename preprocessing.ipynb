{
 "cells": [
  {
   "cell_type": "code",
   "execution_count": 9,
   "metadata": {},
   "outputs": [],
   "source": [
    "import pandas as pd\n",
    "import numpy as np"
   ]
  },
  {
   "cell_type": "code",
   "execution_count": 2,
   "metadata": {},
   "outputs": [],
   "source": [
    "df = pd.read_csv('./data/ADANIGREEN.csv')"
   ]
  },
  {
   "cell_type": "code",
   "execution_count": 8,
   "metadata": {},
   "outputs": [
    {
     "data": {
      "text/plain": [
       "array([29.5, 28.5, 28.6, 28.5, 28.5, 28.5])"
      ]
     },
     "execution_count": 8,
     "metadata": {},
     "output_type": "execute_result"
    }
   ],
   "source": [
    "open = df.loc[18: 18 +5, 'open'].values\n",
    "open"
   ]
  },
  {
   "cell_type": "code",
   "execution_count": 7,
   "metadata": {},
   "outputs": [
    {
     "data": {
      "text/plain": [
       "28.683333333333334"
      ]
     },
     "execution_count": 7,
     "metadata": {},
     "output_type": "execute_result"
    }
   ],
   "source": [
    "sum(open)/len(open)"
   ]
  },
  {
   "cell_type": "code",
   "execution_count": 11,
   "metadata": {},
   "outputs": [
    {
     "data": {
      "text/plain": [
       "array([[2.95000000e-03, 2.85000000e-03, 2.86000000e-03, 2.85000000e-03,\n",
       "        2.85000000e-03, 2.85000000e-03],\n",
       "       [2.95000000e-03, 2.89500000e-03, 2.89000000e-03, 2.85500000e-03,\n",
       "        2.85500000e-03, 2.86000000e-03],\n",
       "       [2.85000000e-03, 2.85000000e-03, 2.85000000e-03, 2.85000000e-03,\n",
       "        2.85000000e-03, 2.85000000e-03],\n",
       "       [2.85000000e-03, 2.85500000e-03, 2.85000000e-03, 2.85000000e-03,\n",
       "        2.85000000e-03, 2.85000000e-03],\n",
       "       [2.03001779e-04, 3.97483818e-05, 4.61898744e-05, 3.48016620e-05,\n",
       "        1.24243554e-04, 6.21145591e-06]])"
      ]
     },
     "execution_count": 11,
     "metadata": {},
     "output_type": "execute_result"
    }
   ],
   "source": [
    "MAX_NUM_SHARES = 2147483647\n",
    "MAX_SHARE_PRICE = 10000\n",
    "current_step = 18\n",
    "np.array([\n",
    "            df.loc[current_step: current_step +\n",
    "                        5, 'open'].values / MAX_SHARE_PRICE,\n",
    "            df.loc[current_step: current_step +\n",
    "                        5, 'high'].values / MAX_SHARE_PRICE,\n",
    "            df.loc[current_step: current_step +\n",
    "                        5, 'low'].values / MAX_SHARE_PRICE,\n",
    "            df.loc[current_step: current_step +\n",
    "                        5, 'close'].values / MAX_SHARE_PRICE,\n",
    "            df.loc[current_step: current_step +\n",
    "                        5, 'volume'].values / MAX_NUM_SHARES,\n",
    "        ])"
   ]
  },
  {
   "cell_type": "code",
   "execution_count": 13,
   "metadata": {},
   "outputs": [
    {
     "data": {
      "text/plain": [
       "array([[2.95000e+01, 2.85000e+01, 2.86000e+01, 2.85000e+01, 2.85000e+01,\n",
       "        2.85000e+01],\n",
       "       [2.95000e+01, 2.89500e+01, 2.89000e+01, 2.85500e+01, 2.85500e+01,\n",
       "        2.86000e+01],\n",
       "       [2.85000e+01, 2.85000e+01, 2.85000e+01, 2.85000e+01, 2.85000e+01,\n",
       "        2.85000e+01],\n",
       "       [2.85000e+01, 2.85500e+01, 2.85000e+01, 2.85000e+01, 2.85000e+01,\n",
       "        2.85000e+01],\n",
       "       [4.35943e+05, 8.53590e+04, 9.91920e+04, 7.47360e+04, 2.66811e+05,\n",
       "        1.33390e+04]])"
      ]
     },
     "execution_count": 13,
     "metadata": {},
     "output_type": "execute_result"
    }
   ],
   "source": [
    "MAX_NUM_SHARES = 2147483647\n",
    "MAX_SHARE_PRICE = 10000\n",
    "current_step = 18\n",
    "np.array([\n",
    "            df.loc[current_step: current_step +\n",
    "                        5, 'open'].values,\n",
    "            df.loc[current_step: current_step +\n",
    "                        5, 'high'].values,\n",
    "            df.loc[current_step: current_step +\n",
    "                        5, 'low'].values,\n",
    "            df.loc[current_step: current_step +\n",
    "                        5, 'close'].values,\n",
    "            df.loc[current_step: current_step +\n",
    "                        5, 'volume'].values,\n",
    "        ])"
   ]
  },
  {
   "cell_type": "code",
   "execution_count": null,
   "metadata": {},
   "outputs": [],
   "source": []
  }
 ],
 "metadata": {
  "kernelspec": {
   "display_name": "Python 3.8.3 64-bit",
   "language": "python",
   "name": "python3"
  },
  "language_info": {
   "codemirror_mode": {
    "name": "ipython",
    "version": 3
   },
   "file_extension": ".py",
   "mimetype": "text/x-python",
   "name": "python",
   "nbconvert_exporter": "python",
   "pygments_lexer": "ipython3",
   "version": "3.8.3"
  },
  "orig_nbformat": 4,
  "vscode": {
   "interpreter": {
    "hash": "cae2a9a7002033490415af603d96bb8978a14603eb756c2cc3839819cf41baa1"
   }
  }
 },
 "nbformat": 4,
 "nbformat_minor": 2
}
