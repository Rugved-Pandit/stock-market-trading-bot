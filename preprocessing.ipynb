{
 "cells": [
  {
   "cell_type": "code",
   "execution_count": 1,
   "metadata": {},
   "outputs": [],
   "source": [
    "import pandas as pd\n",
    "import numpy as np\n",
    "import pandas_ta\n",
    "import matplotlib.pyplot as plt\n",
    "import gym"
   ]
  },
  {
   "cell_type": "code",
   "execution_count": 16,
   "metadata": {},
   "outputs": [],
   "source": [
    "df = pd.read_csv('./data/ADANIGREEN.csv')"
   ]
  },
  {
   "cell_type": "code",
   "execution_count": 19,
   "metadata": {},
   "outputs": [
    {
     "data": {
      "text/plain": [
       "array([  2214, 149288,  28111,  25125,  29512,  29975], dtype=int64)"
      ]
     },
     "execution_count": 19,
     "metadata": {},
     "output_type": "execute_result"
    }
   ],
   "source": [
    "open = df.loc[30-5: 30, 'volume'].values\n",
    "open"
   ]
  },
  {
   "cell_type": "code",
   "execution_count": 7,
   "metadata": {},
   "outputs": [
    {
     "data": {
      "text/plain": [
       "28.683333333333334"
      ]
     },
     "execution_count": 7,
     "metadata": {},
     "output_type": "execute_result"
    }
   ],
   "source": [
    "sum(open)/len(open)"
   ]
  },
  {
   "cell_type": "code",
   "execution_count": 11,
   "metadata": {},
   "outputs": [
    {
     "data": {
      "text/plain": [
       "array([[2.95000000e-03, 2.85000000e-03, 2.86000000e-03, 2.85000000e-03,\n",
       "        2.85000000e-03, 2.85000000e-03],\n",
       "       [2.95000000e-03, 2.89500000e-03, 2.89000000e-03, 2.85500000e-03,\n",
       "        2.85500000e-03, 2.86000000e-03],\n",
       "       [2.85000000e-03, 2.85000000e-03, 2.85000000e-03, 2.85000000e-03,\n",
       "        2.85000000e-03, 2.85000000e-03],\n",
       "       [2.85000000e-03, 2.85500000e-03, 2.85000000e-03, 2.85000000e-03,\n",
       "        2.85000000e-03, 2.85000000e-03],\n",
       "       [2.03001779e-04, 3.97483818e-05, 4.61898744e-05, 3.48016620e-05,\n",
       "        1.24243554e-04, 6.21145591e-06]])"
      ]
     },
     "execution_count": 11,
     "metadata": {},
     "output_type": "execute_result"
    }
   ],
   "source": [
    "MAX_NUM_SHARES = 2147483647\n",
    "MAX_SHARE_PRICE = 10000\n",
    "current_step = 18\n",
    "np.array([\n",
    "            df.loc[current_step: current_step +\n",
    "                        5, 'open'].values / MAX_SHARE_PRICE,\n",
    "            df.loc[current_step: current_step +\n",
    "                        5, 'high'].values / MAX_SHARE_PRICE,\n",
    "            df.loc[current_step: current_step +\n",
    "                        5, 'low'].values / MAX_SHARE_PRICE,\n",
    "            df.loc[current_step: current_step +\n",
    "                        5, 'close'].values / MAX_SHARE_PRICE,\n",
    "            df.loc[current_step: current_step +\n",
    "                        5, 'volume'].values / MAX_NUM_SHARES,\n",
    "        ])"
   ]
  },
  {
   "cell_type": "code",
   "execution_count": 13,
   "metadata": {},
   "outputs": [
    {
     "data": {
      "text/plain": [
       "array([[2.95000e+01, 2.85000e+01, 2.86000e+01, 2.85000e+01, 2.85000e+01,\n",
       "        2.85000e+01],\n",
       "       [2.95000e+01, 2.89500e+01, 2.89000e+01, 2.85500e+01, 2.85500e+01,\n",
       "        2.86000e+01],\n",
       "       [2.85000e+01, 2.85000e+01, 2.85000e+01, 2.85000e+01, 2.85000e+01,\n",
       "        2.85000e+01],\n",
       "       [2.85000e+01, 2.85500e+01, 2.85000e+01, 2.85000e+01, 2.85000e+01,\n",
       "        2.85000e+01],\n",
       "       [4.35943e+05, 8.53590e+04, 9.91920e+04, 7.47360e+04, 2.66811e+05,\n",
       "        1.33390e+04]])"
      ]
     },
     "execution_count": 13,
     "metadata": {},
     "output_type": "execute_result"
    }
   ],
   "source": [
    "MAX_NUM_SHARES = 2147483647\n",
    "MAX_SHARE_PRICE = 10000\n",
    "current_step = 18\n",
    "np.array([\n",
    "            df.loc[current_step: current_step +\n",
    "                        5, 'open'].values,\n",
    "            df.loc[current_step: current_step +\n",
    "                        5, 'high'].values,\n",
    "            df.loc[current_step: current_step +\n",
    "                        5, 'low'].values,\n",
    "            df.loc[current_step: current_step +\n",
    "                        5, 'close'].values,\n",
    "            df.loc[current_step: current_step +\n",
    "                        5, 'volume'].values,\n",
    "        ])"
   ]
  },
  {
   "cell_type": "code",
   "execution_count": 24,
   "metadata": {},
   "outputs": [
    {
     "data": {
      "text/plain": [
       "array([28.75, 28.85, 28.9 , 29.  , 29.9 , 29.5 , 29.75, 29.8 , 30.  ,\n",
       "       30.85, 30.7 , 31.25, 31.25, 31.2 ])"
      ]
     },
     "execution_count": 24,
     "metadata": {},
     "output_type": "execute_result"
    }
   ],
   "source": [
    "\n",
    "current_step = 40\n",
    "high = df.loc[current_step-13: current_step, 'high'].values\n",
    "low = df.loc[current_step-13: current_step, 'low'].values\n"
   ]
  },
  {
   "cell_type": "code",
   "execution_count": 37,
   "metadata": {},
   "outputs": [
    {
     "data": {
      "text/plain": [
       "[<matplotlib.lines.Line2D at 0x1fb95a839a0>]"
      ]
     },
     "execution_count": 37,
     "metadata": {},
     "output_type": "execute_result"
    },
    {
     "data": {
      "image/png": "[encoded data removed]",
      "text/plain": [
       "<Figure size 640x480 with 1 Axes>"
      ]
     },
     "metadata": {},
     "output_type": "display_data"
    }
   ],
   "source": [
    "rsi = pandas_ta.rsi(df['close'][20:500], length=14)\n",
    "\n",
    "x = [l for l in range(len(rsi))]\n",
    "plt.plot(x, rsi)"
   ]
  },
  {
   "cell_type": "code",
   "execution_count": 59,
   "metadata": {},
   "outputs": [
    {
     "name": "stdout",
     "output_type": "stream",
     "text": [
      "49.419276313083266\n"
     ]
    },
    {
     "data": {
      "text/plain": [
       "1980          NaN\n",
       "1981          NaN\n",
       "1982          NaN\n",
       "1983          NaN\n",
       "1984          NaN\n",
       "1985          NaN\n",
       "1986          NaN\n",
       "1987          NaN\n",
       "1988          NaN\n",
       "1989          NaN\n",
       "1990          NaN\n",
       "1991          NaN\n",
       "1992          NaN\n",
       "1993          NaN\n",
       "1994    34.022109\n",
       "1995    34.022109\n",
       "1996    34.022109\n",
       "1997    49.419276\n",
       "1998    49.419276\n",
       "1999    49.419276\n",
       "Name: RSI_14, dtype: float64"
      ]
     },
     "execution_count": 59,
     "metadata": {},
     "output_type": "execute_result"
    }
   ],
   "source": [
    "current_step = 2000\n",
    "rsi = pandas_ta.rsi(df['close'][current_step-20:current_step], length=14)\n",
    "print(rsi[current_step-1])\n",
    "rsi"
   ]
  },
  {
   "cell_type": "code",
   "execution_count": null,
   "metadata": {},
   "outputs": [],
   "source": [
    "#macd\n",
    "EMA_fast = pd.Series(df[column].ewm(ignore_na=False, span=period_fast, adjust=adjust).mean(),name=\"EMA_fast\",)\n",
    "EMA_slow = pd.Series(df[column].ewm(ignore_na=False, span=period_slow, adjust=adjust).mean(),name=\"EMA_slow\",)\n",
    "MACD = pd.Series(EMA_fast - EMA_slow, name=\"MACD\")\n",
    "MACD_signal = pd.Series(MACD.ewm(ignore_na=False, span=signal, adjust=adjust).mean(), name=\"SIGNAL\")\n",
    "\n",
    "pd.concat([MACD, MACD_signal], axis=1)\n",
    "#but idk which column to use in this"
   ]
  },
  {
   "cell_type": "code",
   "execution_count": null,
   "metadata": {},
   "outputs": [],
   "source": []
  },
  {
   "cell_type": "code",
   "execution_count": 15,
   "metadata": {},
   "outputs": [
    {
     "data": {
      "text/plain": [
       "array([-0.20809074], dtype=float32)"
      ]
     },
     "execution_count": 15,
     "metadata": {},
     "output_type": "execute_result"
    }
   ],
   "source": [
    "import gym\n",
    "from gym.spaces import Tuple, Discrete, Box\n",
    "\n",
    "a = Box(-1, 1, (1,)).sample()\n",
    "a"
   ]
  },
  {
   "cell_type": "code",
   "execution_count": 9,
   "metadata": {},
   "outputs": [
    {
     "name": "stdout",
     "output_type": "stream",
     "text": [
      "(1, array([0.11516085], dtype=float32))\n",
      "(1, array([0.22740272], dtype=float32))\n",
      "(1, array([0.9052676], dtype=float32))\n",
      "(2, array([0.31590453], dtype=float32))\n",
      "(1, array([0.27181557], dtype=float32))\n",
      "(0, array([0.25235388], dtype=float32))\n",
      "(1, array([0.6124801], dtype=float32))\n",
      "(2, array([0.773294], dtype=float32))\n",
      "(1, array([0.73390615], dtype=float32))\n",
      "(0, array([0.5705456], dtype=float32))\n"
     ]
    }
   ],
   "source": [
    "for i in range(10):\n",
    "    print(Tuple((Discrete(3), Box(0, 1, shape=(1,)))).sample())"
   ]
  },
  {
   "cell_type": "code",
   "execution_count": null,
   "metadata": {},
   "outputs": [],
   "source": []
  }
 ],
 "metadata": {
  "kernelspec": {
   "display_name": "Python 3.8.3 64-bit",
   "language": "python",
   "name": "python3"
  },
  "language_info": {
   "codemirror_mode": {
    "name": "ipython",
    "version": 3
   },
   "file_extension": ".py",
   "mimetype": "text/x-python",
   "name": "python",
   "nbconvert_exporter": "python",
   "pygments_lexer": "ipython3",
   "version": "3.8.3"
  },
  "orig_nbformat": 4,
  "vscode": {
   "interpreter": {
    "hash": "cae2a9a7002033490415af603d96bb8978a14603eb756c2cc3839819cf41baa1"
   }
  }
 },
 "nbformat": 4,
 "nbformat_minor": 2
}
